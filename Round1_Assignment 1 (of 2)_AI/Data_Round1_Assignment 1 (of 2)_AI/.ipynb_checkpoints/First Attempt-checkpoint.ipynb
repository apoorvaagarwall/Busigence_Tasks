{
 "cells": [
  {
   "cell_type": "code",
   "execution_count": 1,
   "metadata": {
    "collapsed": true
   },
   "outputs": [],
   "source": [
    "import pandas as pd \n",
    "import numpy as np \n",
    "import matplotlib.pyplot as plt\n",
    "import seaborn as sns"
   ]
  },
  {
   "cell_type": "code",
   "execution_count": 4,
   "metadata": {},
   "outputs": [],
   "source": [
    "c_data= pd.read_excel(\"LU_CUSTOMER.xlsx\")"
   ]
  },
  {
   "cell_type": "code",
   "execution_count": 5,
   "metadata": {},
   "outputs": [
    {
     "data": {
      "text/html": [
       "<div>\n",
       "<style>\n",
       "    .dataframe thead tr:only-child th {\n",
       "        text-align: right;\n",
       "    }\n",
       "\n",
       "    .dataframe thead th {\n",
       "        text-align: left;\n",
       "    }\n",
       "\n",
       "    .dataframe tbody tr th {\n",
       "        vertical-align: top;\n",
       "    }\n",
       "</style>\n",
       "<table border=\"1\" class=\"dataframe\">\n",
       "  <thead>\n",
       "    <tr style=\"text-align: right;\">\n",
       "      <th></th>\n",
       "      <th>CUSTOMER_ID</th>\n",
       "      <th>CUST_LAST_NAME</th>\n",
       "      <th>CUST_FIRST_NAME</th>\n",
       "      <th>CUST_BIRTHDATE</th>\n",
       "      <th>AGE</th>\n",
       "      <th>EMAIL</th>\n",
       "      <th>ADDRESS</th>\n",
       "      <th>ZIPCODE</th>\n",
       "      <th>INCOME_ID</th>\n",
       "      <th>BRACKET_DESC</th>\n",
       "      <th>CUST_CITY_ID</th>\n",
       "      <th>CUST_CITY_NAME</th>\n",
       "    </tr>\n",
       "  </thead>\n",
       "  <tbody>\n",
       "    <tr>\n",
       "      <th>0</th>\n",
       "      <td>1</td>\n",
       "      <td>Aaronson</td>\n",
       "      <td>Maxwell</td>\n",
       "      <td>1961-07-11</td>\n",
       "      <td>55</td>\n",
       "      <td>maaronson93@aol.demo</td>\n",
       "      <td>9865 Marion Place Apt.</td>\n",
       "      <td>7071</td>\n",
       "      <td>6</td>\n",
       "      <td>61-70K</td>\n",
       "      <td>221</td>\n",
       "      <td>Lindhurst</td>\n",
       "    </tr>\n",
       "    <tr>\n",
       "      <th>1</th>\n",
       "      <td>2</td>\n",
       "      <td>Abarca</td>\n",
       "      <td>Hugh</td>\n",
       "      <td>1934-09-17</td>\n",
       "      <td>82</td>\n",
       "      <td>habarca60@hotmail.demo</td>\n",
       "      <td>1660 Park Ave.</td>\n",
       "      <td>53233</td>\n",
       "      <td>3</td>\n",
       "      <td>31-40K</td>\n",
       "      <td>251</td>\n",
       "      <td>Milwaukee</td>\n",
       "    </tr>\n",
       "  </tbody>\n",
       "</table>\n",
       "</div>"
      ],
      "text/plain": [
       "   CUSTOMER_ID CUST_LAST_NAME CUST_FIRST_NAME CUST_BIRTHDATE  AGE  \\\n",
       "0            1       Aaronson         Maxwell     1961-07-11   55   \n",
       "1            2         Abarca            Hugh     1934-09-17   82   \n",
       "\n",
       "                    EMAIL                 ADDRESS  ZIPCODE  INCOME_ID  \\\n",
       "0    maaronson93@aol.demo  9865 Marion Place Apt.     7071          6   \n",
       "1  habarca60@hotmail.demo          1660 Park Ave.    53233          3   \n",
       "\n",
       "  BRACKET_DESC  CUST_CITY_ID CUST_CITY_NAME  \n",
       "0       61-70K           221      Lindhurst  \n",
       "1       31-40K           251      Milwaukee  "
      ]
     },
     "execution_count": 5,
     "metadata": {},
     "output_type": "execute_result"
    }
   ],
   "source": [
    "c_data.head(2)"
   ]
  },
  {
   "cell_type": "code",
   "execution_count": 6,
   "metadata": {},
   "outputs": [
    {
     "data": {
      "text/html": [
       "<div>\n",
       "<style>\n",
       "    .dataframe thead tr:only-child th {\n",
       "        text-align: right;\n",
       "    }\n",
       "\n",
       "    .dataframe thead th {\n",
       "        text-align: left;\n",
       "    }\n",
       "\n",
       "    .dataframe tbody tr th {\n",
       "        vertical-align: top;\n",
       "    }\n",
       "</style>\n",
       "<table border=\"1\" class=\"dataframe\">\n",
       "  <thead>\n",
       "    <tr style=\"text-align: right;\">\n",
       "      <th></th>\n",
       "      <th>CUSTOMER_ID</th>\n",
       "      <th>AGE</th>\n",
       "      <th>ZIPCODE</th>\n",
       "      <th>INCOME_ID</th>\n",
       "      <th>CUST_CITY_ID</th>\n",
       "    </tr>\n",
       "  </thead>\n",
       "  <tbody>\n",
       "    <tr>\n",
       "      <th>count</th>\n",
       "      <td>10000.00000</td>\n",
       "      <td>10000.000000</td>\n",
       "      <td>10000.000000</td>\n",
       "      <td>10000.00000</td>\n",
       "      <td>10000.000000</td>\n",
       "    </tr>\n",
       "    <tr>\n",
       "      <th>mean</th>\n",
       "      <td>5000.50000</td>\n",
       "      <td>59.277300</td>\n",
       "      <td>45200.445400</td>\n",
       "      <td>5.28110</td>\n",
       "      <td>218.506600</td>\n",
       "    </tr>\n",
       "    <tr>\n",
       "      <th>std</th>\n",
       "      <td>2886.89568</td>\n",
       "      <td>16.847931</td>\n",
       "      <td>30065.198381</td>\n",
       "      <td>2.41563</td>\n",
       "      <td>125.009486</td>\n",
       "    </tr>\n",
       "    <tr>\n",
       "      <th>min</th>\n",
       "      <td>1.00000</td>\n",
       "      <td>29.000000</td>\n",
       "      <td>1236.000000</td>\n",
       "      <td>1.00000</td>\n",
       "      <td>1.000000</td>\n",
       "    </tr>\n",
       "    <tr>\n",
       "      <th>25%</th>\n",
       "      <td>2500.75000</td>\n",
       "      <td>45.000000</td>\n",
       "      <td>17801.000000</td>\n",
       "      <td>4.00000</td>\n",
       "      <td>110.000000</td>\n",
       "    </tr>\n",
       "    <tr>\n",
       "      <th>50%</th>\n",
       "      <td>5000.50000</td>\n",
       "      <td>59.000000</td>\n",
       "      <td>40160.000000</td>\n",
       "      <td>5.00000</td>\n",
       "      <td>222.000000</td>\n",
       "    </tr>\n",
       "    <tr>\n",
       "      <th>75%</th>\n",
       "      <td>7500.25000</td>\n",
       "      <td>75.000000</td>\n",
       "      <td>72616.000000</td>\n",
       "      <td>7.00000</td>\n",
       "      <td>326.000000</td>\n",
       "    </tr>\n",
       "    <tr>\n",
       "      <th>max</th>\n",
       "      <td>10000.00000</td>\n",
       "      <td>86.000000</td>\n",
       "      <td>99115.000000</td>\n",
       "      <td>10.00000</td>\n",
       "      <td>436.000000</td>\n",
       "    </tr>\n",
       "  </tbody>\n",
       "</table>\n",
       "</div>"
      ],
      "text/plain": [
       "       CUSTOMER_ID           AGE       ZIPCODE    INCOME_ID  CUST_CITY_ID\n",
       "count  10000.00000  10000.000000  10000.000000  10000.00000  10000.000000\n",
       "mean    5000.50000     59.277300  45200.445400      5.28110    218.506600\n",
       "std     2886.89568     16.847931  30065.198381      2.41563    125.009486\n",
       "min        1.00000     29.000000   1236.000000      1.00000      1.000000\n",
       "25%     2500.75000     45.000000  17801.000000      4.00000    110.000000\n",
       "50%     5000.50000     59.000000  40160.000000      5.00000    222.000000\n",
       "75%     7500.25000     75.000000  72616.000000      7.00000    326.000000\n",
       "max    10000.00000     86.000000  99115.000000     10.00000    436.000000"
      ]
     },
     "execution_count": 6,
     "metadata": {},
     "output_type": "execute_result"
    }
   ],
   "source": [
    "c_data.describe()"
   ]
  },
  {
   "cell_type": "code",
   "execution_count": 8,
   "metadata": {},
   "outputs": [
    {
     "data": {
      "text/plain": [
       "(10000, 12)"
      ]
     },
     "execution_count": 8,
     "metadata": {},
     "output_type": "execute_result"
    }
   ],
   "source": [
    "c_data.shape"
   ]
  },
  {
   "cell_type": "code",
   "execution_count": null,
   "metadata": {
    "collapsed": true
   },
   "outputs": [],
   "source": []
  }
 ],
 "metadata": {
  "kernelspec": {
   "display_name": "Python 2",
   "language": "python",
   "name": "python2"
  },
  "language_info": {
   "codemirror_mode": {
    "name": "ipython",
    "version": 2
   },
   "file_extension": ".py",
   "mimetype": "text/x-python",
   "name": "python",
   "nbconvert_exporter": "python",
   "pygments_lexer": "ipython2",
   "version": "2.7.13"
  }
 },
 "nbformat": 4,
 "nbformat_minor": 2
}
