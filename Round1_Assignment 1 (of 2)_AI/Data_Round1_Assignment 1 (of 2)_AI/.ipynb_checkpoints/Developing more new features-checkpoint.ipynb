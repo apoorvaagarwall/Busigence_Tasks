{
 "cells": [
  {
   "cell_type": "code",
   "execution_count": 566,
   "metadata": {
    "collapsed": true
   },
   "outputs": [],
   "source": [
    "import pandas as pd \n",
    "import numpy as np \n",
    "import matplotlib.pyplot as plt\n",
    "import seaborn as sns"
   ]
  },
  {
   "cell_type": "code",
   "execution_count": 567,
   "metadata": {
    "collapsed": true
   },
   "outputs": [],
   "source": [
    "#loading customer data\n",
    "c_data= pd.read_excel(\"LU_CUSTOMER.xlsx\")"
   ]
  },
  {
   "cell_type": "code",
   "execution_count": 568,
   "metadata": {},
   "outputs": [
    {
     "data": {
      "text/html": [
       "<div>\n",
       "<style>\n",
       "    .dataframe thead tr:only-child th {\n",
       "        text-align: right;\n",
       "    }\n",
       "\n",
       "    .dataframe thead th {\n",
       "        text-align: left;\n",
       "    }\n",
       "\n",
       "    .dataframe tbody tr th {\n",
       "        vertical-align: top;\n",
       "    }\n",
       "</style>\n",
       "<table border=\"1\" class=\"dataframe\">\n",
       "  <thead>\n",
       "    <tr style=\"text-align: right;\">\n",
       "      <th></th>\n",
       "      <th>CUSTOMER_ID</th>\n",
       "      <th>CUST_LAST_NAME</th>\n",
       "      <th>CUST_FIRST_NAME</th>\n",
       "      <th>CUST_BIRTHDATE</th>\n",
       "      <th>AGE</th>\n",
       "      <th>EMAIL</th>\n",
       "      <th>ADDRESS</th>\n",
       "      <th>ZIPCODE</th>\n",
       "      <th>INCOME_ID</th>\n",
       "      <th>BRACKET_DESC</th>\n",
       "      <th>CUST_CITY_ID</th>\n",
       "      <th>CUST_CITY_NAME</th>\n",
       "    </tr>\n",
       "  </thead>\n",
       "  <tbody>\n",
       "    <tr>\n",
       "      <th>0</th>\n",
       "      <td>1</td>\n",
       "      <td>Aaronson</td>\n",
       "      <td>Maxwell</td>\n",
       "      <td>1961-07-11</td>\n",
       "      <td>55</td>\n",
       "      <td>maaronson93@aol.demo</td>\n",
       "      <td>9865 Marion Place Apt.</td>\n",
       "      <td>7071</td>\n",
       "      <td>6</td>\n",
       "      <td>61-70K</td>\n",
       "      <td>221</td>\n",
       "      <td>Lindhurst</td>\n",
       "    </tr>\n",
       "    <tr>\n",
       "      <th>1</th>\n",
       "      <td>2</td>\n",
       "      <td>Abarca</td>\n",
       "      <td>Hugh</td>\n",
       "      <td>1934-09-17</td>\n",
       "      <td>82</td>\n",
       "      <td>habarca60@hotmail.demo</td>\n",
       "      <td>1660 Park Ave.</td>\n",
       "      <td>53233</td>\n",
       "      <td>3</td>\n",
       "      <td>31-40K</td>\n",
       "      <td>251</td>\n",
       "      <td>Milwaukee</td>\n",
       "    </tr>\n",
       "  </tbody>\n",
       "</table>\n",
       "</div>"
      ],
      "text/plain": [
       "   CUSTOMER_ID CUST_LAST_NAME CUST_FIRST_NAME CUST_BIRTHDATE  AGE  \\\n",
       "0            1       Aaronson         Maxwell     1961-07-11   55   \n",
       "1            2         Abarca            Hugh     1934-09-17   82   \n",
       "\n",
       "                    EMAIL                 ADDRESS  ZIPCODE  INCOME_ID  \\\n",
       "0    maaronson93@aol.demo  9865 Marion Place Apt.     7071          6   \n",
       "1  habarca60@hotmail.demo          1660 Park Ave.    53233          3   \n",
       "\n",
       "  BRACKET_DESC  CUST_CITY_ID CUST_CITY_NAME  \n",
       "0       61-70K           221      Lindhurst  \n",
       "1       31-40K           251      Milwaukee  "
      ]
     },
     "execution_count": 568,
     "metadata": {},
     "output_type": "execute_result"
    }
   ],
   "source": [
    "c_data.head(2)"
   ]
  },
  {
   "cell_type": "code",
   "execution_count": 569,
   "metadata": {},
   "outputs": [
    {
     "data": {
      "text/html": [
       "<div>\n",
       "<style>\n",
       "    .dataframe thead tr:only-child th {\n",
       "        text-align: right;\n",
       "    }\n",
       "\n",
       "    .dataframe thead th {\n",
       "        text-align: left;\n",
       "    }\n",
       "\n",
       "    .dataframe tbody tr th {\n",
       "        vertical-align: top;\n",
       "    }\n",
       "</style>\n",
       "<table border=\"1\" class=\"dataframe\">\n",
       "  <thead>\n",
       "    <tr style=\"text-align: right;\">\n",
       "      <th></th>\n",
       "      <th>CUSTOMER_ID</th>\n",
       "      <th>AGE</th>\n",
       "      <th>ZIPCODE</th>\n",
       "      <th>INCOME_ID</th>\n",
       "      <th>CUST_CITY_ID</th>\n",
       "    </tr>\n",
       "  </thead>\n",
       "  <tbody>\n",
       "    <tr>\n",
       "      <th>count</th>\n",
       "      <td>10000.00000</td>\n",
       "      <td>10000.000000</td>\n",
       "      <td>10000.000000</td>\n",
       "      <td>10000.00000</td>\n",
       "      <td>10000.000000</td>\n",
       "    </tr>\n",
       "    <tr>\n",
       "      <th>mean</th>\n",
       "      <td>5000.50000</td>\n",
       "      <td>59.277300</td>\n",
       "      <td>45200.445400</td>\n",
       "      <td>5.28110</td>\n",
       "      <td>218.506600</td>\n",
       "    </tr>\n",
       "    <tr>\n",
       "      <th>std</th>\n",
       "      <td>2886.89568</td>\n",
       "      <td>16.847931</td>\n",
       "      <td>30065.198381</td>\n",
       "      <td>2.41563</td>\n",
       "      <td>125.009486</td>\n",
       "    </tr>\n",
       "    <tr>\n",
       "      <th>min</th>\n",
       "      <td>1.00000</td>\n",
       "      <td>29.000000</td>\n",
       "      <td>1236.000000</td>\n",
       "      <td>1.00000</td>\n",
       "      <td>1.000000</td>\n",
       "    </tr>\n",
       "    <tr>\n",
       "      <th>25%</th>\n",
       "      <td>2500.75000</td>\n",
       "      <td>45.000000</td>\n",
       "      <td>17801.000000</td>\n",
       "      <td>4.00000</td>\n",
       "      <td>110.000000</td>\n",
       "    </tr>\n",
       "    <tr>\n",
       "      <th>50%</th>\n",
       "      <td>5000.50000</td>\n",
       "      <td>59.000000</td>\n",
       "      <td>40160.000000</td>\n",
       "      <td>5.00000</td>\n",
       "      <td>222.000000</td>\n",
       "    </tr>\n",
       "    <tr>\n",
       "      <th>75%</th>\n",
       "      <td>7500.25000</td>\n",
       "      <td>75.000000</td>\n",
       "      <td>72616.000000</td>\n",
       "      <td>7.00000</td>\n",
       "      <td>326.000000</td>\n",
       "    </tr>\n",
       "    <tr>\n",
       "      <th>max</th>\n",
       "      <td>10000.00000</td>\n",
       "      <td>86.000000</td>\n",
       "      <td>99115.000000</td>\n",
       "      <td>10.00000</td>\n",
       "      <td>436.000000</td>\n",
       "    </tr>\n",
       "  </tbody>\n",
       "</table>\n",
       "</div>"
      ],
      "text/plain": [
       "       CUSTOMER_ID           AGE       ZIPCODE    INCOME_ID  CUST_CITY_ID\n",
       "count  10000.00000  10000.000000  10000.000000  10000.00000  10000.000000\n",
       "mean    5000.50000     59.277300  45200.445400      5.28110    218.506600\n",
       "std     2886.89568     16.847931  30065.198381      2.41563    125.009486\n",
       "min        1.00000     29.000000   1236.000000      1.00000      1.000000\n",
       "25%     2500.75000     45.000000  17801.000000      4.00000    110.000000\n",
       "50%     5000.50000     59.000000  40160.000000      5.00000    222.000000\n",
       "75%     7500.25000     75.000000  72616.000000      7.00000    326.000000\n",
       "max    10000.00000     86.000000  99115.000000     10.00000    436.000000"
      ]
     },
     "execution_count": 569,
     "metadata": {},
     "output_type": "execute_result"
    }
   ],
   "source": [
    "c_data.describe()"
   ]
  },
  {
   "cell_type": "code",
   "execution_count": 570,
   "metadata": {},
   "outputs": [
    {
     "data": {
      "text/plain": [
       "(10000, 12)"
      ]
     },
     "execution_count": 570,
     "metadata": {},
     "output_type": "execute_result"
    }
   ],
   "source": [
    "c_data.shape"
   ]
  },
  {
   "cell_type": "code",
   "execution_count": 571,
   "metadata": {},
   "outputs": [
    {
     "data": {
      "image/png": "[encoded data removed]",
      "text/plain": [
       "<matplotlib.figure.Figure at 0x7f3b9c98c8d0>"
      ]
     },
     "metadata": {},
     "output_type": "display_data"
    }
   ],
   "source": [
    "#VISUALISING CUSTOMER DATA\n",
    "#plotting the age distribution\n",
    "sns.distplot(c_data.AGE)\n",
    "plt.show()"
   ]
  },
  {
   "cell_type": "code",
   "execution_count": 572,
   "metadata": {
    "scrolled": true
   },
   "outputs": [
    {
     "data": {
      "image/png": "[encoded data removed]",
      "text/plain": [
       "<matplotlib.figure.Figure at 0x7f3b9c6a1210>"
      ]
     },
     "metadata": {},
     "output_type": "display_data"
    }
   ],
   "source": [
    "# Income_ID Distribution (1 represents lowest and 10 highest)\n",
    "sns.distplot(c_data.INCOME_ID)\n",
    "plt.show()"
   ]
  },
  {
   "cell_type": "code",
   "execution_count": 573,
   "metadata": {},
   "outputs": [
    {
     "data": {
      "text/plain": [
       "270    237\n",
       "406    184\n",
       "73     151\n",
       "187    130\n",
       "22     118\n",
       "44      96\n",
       "226     79\n",
       "209     73\n",
       "269     64\n",
       "34      62\n",
       "340     60\n",
       "354     58\n",
       "78      58\n",
       "313     58\n",
       "35      57\n",
       "253     57\n",
       "223     56\n",
       "364     55\n",
       "308     55\n",
       "85      52\n",
       "171     52\n",
       "164     51\n",
       "16      51\n",
       "216     47\n",
       "348     46\n",
       "37      46\n",
       "251     45\n",
       "134     45\n",
       "326     44\n",
       "111     44\n",
       "      ... \n",
       "331     10\n",
       "370     10\n",
       "185      9\n",
       "199      9\n",
       "343      8\n",
       "55       4\n",
       "246      1\n",
       "64       1\n",
       "285      1\n",
       "329      1\n",
       "377      1\n",
       "119      1\n",
       "7        1\n",
       "277      1\n",
       "320      1\n",
       "315      1\n",
       "129      1\n",
       "432      1\n",
       "20       1\n",
       "369      1\n",
       "83       1\n",
       "312      1\n",
       "157      1\n",
       "11       1\n",
       "272      1\n",
       "414      1\n",
       "250      1\n",
       "69       1\n",
       "382      1\n",
       "36       1\n",
       "Name: CUST_CITY_ID, Length: 436, dtype: int64"
      ]
     },
     "execution_count": 573,
     "metadata": {},
     "output_type": "execute_result"
    }
   ],
   "source": [
    "c_data.CUST_CITY_ID.value_counts(sort=True)"
   ]
  },
  {
   "cell_type": "code",
   "execution_count": 574,
   "metadata": {
    "collapsed": true
   },
   "outputs": [],
   "source": [
    "#deleting repeated and redundant information\n",
    "c_data.drop([\n",
    "    \"CUST_LAST_NAME\",\n",
    "    \"CUST_FIRST_NAME\",\n",
    "    \"CUST_BIRTHDATE\",\n",
    "    \"EMAIL\",\n",
    "    \"ADDRESS\",\n",
    "    \"BRACKET_DESC\",\n",
    "    \"CUST_CITY_NAME\"], axis=1, inplace=True)"
   ]
  },
  {
   "cell_type": "code",
   "execution_count": 575,
   "metadata": {
    "collapsed": true
   },
   "outputs": [],
   "source": [
    "#loading item data\n",
    "i_data= pd.read_excel(\"LU_ITEM.xlsx\")"
   ]
  },
  {
   "cell_type": "code",
   "execution_count": 576,
   "metadata": {},
   "outputs": [
    {
     "data": {
      "text/html": [
       "<div>\n",
       "<style>\n",
       "    .dataframe thead tr:only-child th {\n",
       "        text-align: right;\n",
       "    }\n",
       "\n",
       "    .dataframe thead th {\n",
       "        text-align: left;\n",
       "    }\n",
       "\n",
       "    .dataframe tbody tr th {\n",
       "        vertical-align: top;\n",
       "    }\n",
       "</style>\n",
       "<table border=\"1\" class=\"dataframe\">\n",
       "  <thead>\n",
       "    <tr style=\"text-align: right;\">\n",
       "      <th></th>\n",
       "      <th>ITEM_ID</th>\n",
       "      <th>ITEM_NAME</th>\n",
       "      <th>ITEM_LONG_DESC</th>\n",
       "      <th>DISC_CD</th>\n",
       "      <th>UNIT_PRICE</th>\n",
       "      <th>UNIT_COST</th>\n",
       "      <th>SUBCAT_ID</th>\n",
       "      <th>SUPPLIER_ID</th>\n",
       "      <th>BRAND_ID</th>\n",
       "    </tr>\n",
       "  </thead>\n",
       "  <tbody>\n",
       "    <tr>\n",
       "      <th>0</th>\n",
       "      <td>90</td>\n",
       "      <td>Self-Management and Efficiency</td>\n",
       "      <td>Self-Management and Efficiency: Large Corporat...</td>\n",
       "      <td>12090</td>\n",
       "      <td>25</td>\n",
       "      <td>19</td>\n",
       "      <td>12</td>\n",
       "      <td>109</td>\n",
       "      <td>174</td>\n",
       "    </tr>\n",
       "    <tr>\n",
       "      <th>1</th>\n",
       "      <td>91</td>\n",
       "      <td>Harman Kardon Digital Surround Sound Receiver</td>\n",
       "      <td>Digital Surround Sound Receiver</td>\n",
       "      <td>21091</td>\n",
       "      <td>1000</td>\n",
       "      <td>739</td>\n",
       "      <td>21</td>\n",
       "      <td>202</td>\n",
       "      <td>203</td>\n",
       "    </tr>\n",
       "  </tbody>\n",
       "</table>\n",
       "</div>"
      ],
      "text/plain": [
       "   ITEM_ID                                      ITEM_NAME  \\\n",
       "0       90                 Self-Management and Efficiency   \n",
       "1       91  Harman Kardon Digital Surround Sound Receiver   \n",
       "\n",
       "                                      ITEM_LONG_DESC  DISC_CD  UNIT_PRICE  \\\n",
       "0  Self-Management and Efficiency: Large Corporat...    12090          25   \n",
       "1                    Digital Surround Sound Receiver    21091        1000   \n",
       "\n",
       "   UNIT_COST  SUBCAT_ID  SUPPLIER_ID  BRAND_ID  \n",
       "0         19         12          109       174  \n",
       "1        739         21          202       203  "
      ]
     },
     "execution_count": 576,
     "metadata": {},
     "output_type": "execute_result"
    }
   ],
   "source": [
    "i_data.head(2)"
   ]
  },
  {
   "cell_type": "code",
   "execution_count": 577,
   "metadata": {},
   "outputs": [
    {
     "data": {
      "text/html": [
       "<div>\n",
       "<style>\n",
       "    .dataframe thead tr:only-child th {\n",
       "        text-align: right;\n",
       "    }\n",
       "\n",
       "    .dataframe thead th {\n",
       "        text-align: left;\n",
       "    }\n",
       "\n",
       "    .dataframe tbody tr th {\n",
       "        vertical-align: top;\n",
       "    }\n",
       "</style>\n",
       "<table border=\"1\" class=\"dataframe\">\n",
       "  <thead>\n",
       "    <tr style=\"text-align: right;\">\n",
       "      <th></th>\n",
       "      <th>ITEM_ID</th>\n",
       "      <th>DISC_CD</th>\n",
       "      <th>UNIT_PRICE</th>\n",
       "      <th>UNIT_COST</th>\n",
       "      <th>SUBCAT_ID</th>\n",
       "      <th>SUPPLIER_ID</th>\n",
       "      <th>BRAND_ID</th>\n",
       "    </tr>\n",
       "  </thead>\n",
       "  <tbody>\n",
       "    <tr>\n",
       "      <th>count</th>\n",
       "      <td>360.000000</td>\n",
       "      <td>360.000000</td>\n",
       "      <td>360.000000</td>\n",
       "      <td>360.000000</td>\n",
       "      <td>360.000000</td>\n",
       "      <td>360.000000</td>\n",
       "      <td>360.000000</td>\n",
       "    </tr>\n",
       "    <tr>\n",
       "      <th>mean</th>\n",
       "      <td>180.500000</td>\n",
       "      <td>28669.388889</td>\n",
       "      <td>99.708333</td>\n",
       "      <td>73.211111</td>\n",
       "      <td>28.488889</td>\n",
       "      <td>254.955556</td>\n",
       "      <td>285.313889</td>\n",
       "    </tr>\n",
       "    <tr>\n",
       "      <th>std</th>\n",
       "      <td>104.067286</td>\n",
       "      <td>11443.462515</td>\n",
       "      <td>201.457063</td>\n",
       "      <td>146.501561</td>\n",
       "      <td>11.340017</td>\n",
       "      <td>111.397445</td>\n",
       "      <td>119.266789</td>\n",
       "    </tr>\n",
       "    <tr>\n",
       "      <th>min</th>\n",
       "      <td>1.000000</td>\n",
       "      <td>11001.000000</td>\n",
       "      <td>3.000000</td>\n",
       "      <td>3.000000</td>\n",
       "      <td>11.000000</td>\n",
       "      <td>101.000000</td>\n",
       "      <td>101.000000</td>\n",
       "    </tr>\n",
       "    <tr>\n",
       "      <th>25%</th>\n",
       "      <td>90.750000</td>\n",
       "      <td>19840.500000</td>\n",
       "      <td>12.000000</td>\n",
       "      <td>10.000000</td>\n",
       "      <td>19.750000</td>\n",
       "      <td>178.000000</td>\n",
       "      <td>197.250000</td>\n",
       "    </tr>\n",
       "    <tr>\n",
       "      <th>50%</th>\n",
       "      <td>180.500000</td>\n",
       "      <td>28680.500000</td>\n",
       "      <td>15.000000</td>\n",
       "      <td>13.000000</td>\n",
       "      <td>28.500000</td>\n",
       "      <td>255.500000</td>\n",
       "      <td>258.500000</td>\n",
       "    </tr>\n",
       "    <tr>\n",
       "      <th>75%</th>\n",
       "      <td>270.250000</td>\n",
       "      <td>37520.250000</td>\n",
       "      <td>50.000000</td>\n",
       "      <td>38.000000</td>\n",
       "      <td>37.250000</td>\n",
       "      <td>333.500000</td>\n",
       "      <td>387.500000</td>\n",
       "    </tr>\n",
       "    <tr>\n",
       "      <th>max</th>\n",
       "      <td>360.000000</td>\n",
       "      <td>46360.000000</td>\n",
       "      <td>1200.000000</td>\n",
       "      <td>852.000000</td>\n",
       "      <td>46.000000</td>\n",
       "      <td>406.000000</td>\n",
       "      <td>490.000000</td>\n",
       "    </tr>\n",
       "  </tbody>\n",
       "</table>\n",
       "</div>"
      ],
      "text/plain": [
       "          ITEM_ID       DISC_CD   UNIT_PRICE   UNIT_COST   SUBCAT_ID  \\\n",
       "count  360.000000    360.000000   360.000000  360.000000  360.000000   \n",
       "mean   180.500000  28669.388889    99.708333   73.211111   28.488889   \n",
       "std    104.067286  11443.462515   201.457063  146.501561   11.340017   \n",
       "min      1.000000  11001.000000     3.000000    3.000000   11.000000   \n",
       "25%     90.750000  19840.500000    12.000000   10.000000   19.750000   \n",
       "50%    180.500000  28680.500000    15.000000   13.000000   28.500000   \n",
       "75%    270.250000  37520.250000    50.000000   38.000000   37.250000   \n",
       "max    360.000000  46360.000000  1200.000000  852.000000   46.000000   \n",
       "\n",
       "       SUPPLIER_ID    BRAND_ID  \n",
       "count   360.000000  360.000000  \n",
       "mean    254.955556  285.313889  \n",
       "std     111.397445  119.266789  \n",
       "min     101.000000  101.000000  \n",
       "25%     178.000000  197.250000  \n",
       "50%     255.500000  258.500000  \n",
       "75%     333.500000  387.500000  \n",
       "max     406.000000  490.000000  "
      ]
     },
     "execution_count": 577,
     "metadata": {},
     "output_type": "execute_result"
    }
   ],
   "source": [
    "i_data.describe()"
   ]
  },
  {
   "cell_type": "code",
   "execution_count": 578,
   "metadata": {},
   "outputs": [
    {
     "data": {
      "image/png": "[encoded data removed]",
      "text/plain": [
       "<matplotlib.figure.Figure at 0x7f3b9bb58150>"
      ]
     },
     "metadata": {},
     "output_type": "display_data"
    }
   ],
   "source": [
    "#Visualising dataset \n",
    "#Price distribution\n",
    "\n",
    "sns.distplot(i_data.UNIT_PRICE)\n",
    "plt.show()"
   ]
  },
  {
   "cell_type": "code",
   "execution_count": 579,
   "metadata": {},
   "outputs": [
    {
     "data": {
      "text/html": [
       "<div>\n",
       "<style>\n",
       "    .dataframe thead tr:only-child th {\n",
       "        text-align: right;\n",
       "    }\n",
       "\n",
       "    .dataframe thead th {\n",
       "        text-align: left;\n",
       "    }\n",
       "\n",
       "    .dataframe tbody tr th {\n",
       "        vertical-align: top;\n",
       "    }\n",
       "</style>\n",
       "<table border=\"1\" class=\"dataframe\">\n",
       "  <thead>\n",
       "    <tr style=\"text-align: right;\">\n",
       "      <th></th>\n",
       "      <th>ITEM_ID</th>\n",
       "      <th>ITEM_NAME</th>\n",
       "      <th>ITEM_LONG_DESC</th>\n",
       "      <th>DISC_CD</th>\n",
       "      <th>UNIT_PRICE</th>\n",
       "      <th>UNIT_COST</th>\n",
       "      <th>SUBCAT_ID</th>\n",
       "      <th>SUPPLIER_ID</th>\n",
       "      <th>BRAND_ID</th>\n",
       "    </tr>\n",
       "  </thead>\n",
       "  <tbody>\n",
       "    <tr>\n",
       "      <th>1</th>\n",
       "      <td>91</td>\n",
       "      <td>Harman Kardon Digital Surround Sound Receiver</td>\n",
       "      <td>Digital Surround Sound Receiver</td>\n",
       "      <td>21091</td>\n",
       "      <td>1000</td>\n",
       "      <td>739</td>\n",
       "      <td>21</td>\n",
       "      <td>202</td>\n",
       "      <td>203</td>\n",
       "    </tr>\n",
       "    <tr>\n",
       "      <th>2</th>\n",
       "      <td>92</td>\n",
       "      <td>Harman Kardon AM/FM Stereo Receiver</td>\n",
       "      <td>HK3370 AM/FM Stereo Receiver</td>\n",
       "      <td>21092</td>\n",
       "      <td>500</td>\n",
       "      <td>373</td>\n",
       "      <td>21</td>\n",
       "      <td>202</td>\n",
       "      <td>203</td>\n",
       "    </tr>\n",
       "    <tr>\n",
       "      <th>3</th>\n",
       "      <td>93</td>\n",
       "      <td>Harman Kardon Dolby Digital Receiver</td>\n",
       "      <td>AVR45 Dolby Digital Receiver</td>\n",
       "      <td>21093</td>\n",
       "      <td>700</td>\n",
       "      <td>518</td>\n",
       "      <td>21</td>\n",
       "      <td>202</td>\n",
       "      <td>203</td>\n",
       "    </tr>\n",
       "    <tr>\n",
       "      <th>9</th>\n",
       "      <td>99</td>\n",
       "      <td>Pioneer CD Recordable, Digital Synchro Recording</td>\n",
       "      <td>CD Recordable, Digital Synchro Recording</td>\n",
       "      <td>21099</td>\n",
       "      <td>500</td>\n",
       "      <td>370</td>\n",
       "      <td>21</td>\n",
       "      <td>203</td>\n",
       "      <td>211</td>\n",
       "    </tr>\n",
       "    <tr>\n",
       "      <th>14</th>\n",
       "      <td>104</td>\n",
       "      <td>Sony Digital MiniDisc</td>\n",
       "      <td>Digital MiniDisc/CD/AM/FM Stereo System</td>\n",
       "      <td>21104</td>\n",
       "      <td>600</td>\n",
       "      <td>445</td>\n",
       "      <td>21</td>\n",
       "      <td>203</td>\n",
       "      <td>215</td>\n",
       "    </tr>\n",
       "    <tr>\n",
       "      <th>17</th>\n",
       "      <td>107</td>\n",
       "      <td>Hitachi DVD Camcorder</td>\n",
       "      <td>DVD Camcorder with 3.5\" Color LCD and Photo Mode</td>\n",
       "      <td>22107</td>\n",
       "      <td>600</td>\n",
       "      <td>449</td>\n",
       "      <td>22</td>\n",
       "      <td>201</td>\n",
       "      <td>205</td>\n",
       "    </tr>\n",
       "    <tr>\n",
       "      <th>114</th>\n",
       "      <td>115</td>\n",
       "      <td>Panasonic Digital Palmcorder Camcorder</td>\n",
       "      <td>PV-DV910 Digital Palmcorder Camcorder</td>\n",
       "      <td>22115</td>\n",
       "      <td>900</td>\n",
       "      <td>674</td>\n",
       "      <td>22</td>\n",
       "      <td>201</td>\n",
       "      <td>210</td>\n",
       "    </tr>\n",
       "    <tr>\n",
       "      <th>115</th>\n",
       "      <td>116</td>\n",
       "      <td>Sharp Hi-Fi Stereo Viewcam Camcorder</td>\n",
       "      <td>Hi-Fi Stereo Viewcam Camcorder</td>\n",
       "      <td>22116</td>\n",
       "      <td>450</td>\n",
       "      <td>318</td>\n",
       "      <td>22</td>\n",
       "      <td>201</td>\n",
       "      <td>214</td>\n",
       "    </tr>\n",
       "    <tr>\n",
       "      <th>116</th>\n",
       "      <td>117</td>\n",
       "      <td>Sharp Hi8 Viewcam Camcorder</td>\n",
       "      <td>Hi8 Viewcam Camcorder</td>\n",
       "      <td>22117</td>\n",
       "      <td>600</td>\n",
       "      <td>426</td>\n",
       "      <td>22</td>\n",
       "      <td>201</td>\n",
       "      <td>214</td>\n",
       "    </tr>\n",
       "    <tr>\n",
       "      <th>117</th>\n",
       "      <td>118</td>\n",
       "      <td>Sharp Internet Viewcam</td>\n",
       "      <td>MPEG-4 Internet Viewcam</td>\n",
       "      <td>22118</td>\n",
       "      <td>700</td>\n",
       "      <td>514</td>\n",
       "      <td>22</td>\n",
       "      <td>201</td>\n",
       "      <td>214</td>\n",
       "    </tr>\n",
       "    <tr>\n",
       "      <th>118</th>\n",
       "      <td>119</td>\n",
       "      <td>Sony Handycam Digital Recorder</td>\n",
       "      <td>DCRTRV103 Handycam Digital Recorder</td>\n",
       "      <td>22119</td>\n",
       "      <td>900</td>\n",
       "      <td>640</td>\n",
       "      <td>22</td>\n",
       "      <td>201</td>\n",
       "      <td>215</td>\n",
       "    </tr>\n",
       "    <tr>\n",
       "      <th>139</th>\n",
       "      <td>140</td>\n",
       "      <td>Sharp Mobilon TriPad Handheld PC</td>\n",
       "      <td>Mobilon TriPad PV-6000 Handheld PC</td>\n",
       "      <td>24140</td>\n",
       "      <td>980</td>\n",
       "      <td>727</td>\n",
       "      <td>24</td>\n",
       "      <td>205</td>\n",
       "      <td>214</td>\n",
       "    </tr>\n",
       "    <tr>\n",
       "      <th>141</th>\n",
       "      <td>142</td>\n",
       "      <td>Xerox Workcentre 385</td>\n",
       "      <td>Workcentre 385</td>\n",
       "      <td>24142</td>\n",
       "      <td>500</td>\n",
       "      <td>365</td>\n",
       "      <td>24</td>\n",
       "      <td>205</td>\n",
       "      <td>216</td>\n",
       "    </tr>\n",
       "    <tr>\n",
       "      <th>144</th>\n",
       "      <td>145</td>\n",
       "      <td>Hewlett Packard Color Copier</td>\n",
       "      <td>C6690A Color Copier 160</td>\n",
       "      <td>24145</td>\n",
       "      <td>604</td>\n",
       "      <td>436</td>\n",
       "      <td>24</td>\n",
       "      <td>210</td>\n",
       "      <td>204</td>\n",
       "    </tr>\n",
       "    <tr>\n",
       "      <th>145</th>\n",
       "      <td>146</td>\n",
       "      <td>Hewlett Packard LaserJet Printer/Copier/Scanner</td>\n",
       "      <td>C7045A LaserJet 1220 Printer/Copier/Scanner</td>\n",
       "      <td>24146</td>\n",
       "      <td>650</td>\n",
       "      <td>474</td>\n",
       "      <td>24</td>\n",
       "      <td>210</td>\n",
       "      <td>204</td>\n",
       "    </tr>\n",
       "    <tr>\n",
       "      <th>148</th>\n",
       "      <td>149</td>\n",
       "      <td>Hewlett Packard OfficeJet Printer</td>\n",
       "      <td>C6687A OfficeJet R-40xi</td>\n",
       "      <td>24149</td>\n",
       "      <td>600</td>\n",
       "      <td>423</td>\n",
       "      <td>24</td>\n",
       "      <td>210</td>\n",
       "      <td>204</td>\n",
       "    </tr>\n",
       "    <tr>\n",
       "      <th>149</th>\n",
       "      <td>150</td>\n",
       "      <td>Hewlett Packard Jornada 680 Handheld PC</td>\n",
       "      <td>Jornada 680 Handheld PC</td>\n",
       "      <td>24150</td>\n",
       "      <td>800</td>\n",
       "      <td>592</td>\n",
       "      <td>24</td>\n",
       "      <td>210</td>\n",
       "      <td>204</td>\n",
       "    </tr>\n",
       "    <tr>\n",
       "      <th>151</th>\n",
       "      <td>152</td>\n",
       "      <td>RCA 32\" Stereo TV</td>\n",
       "      <td>F32645 32\" Stereo TV</td>\n",
       "      <td>25152</td>\n",
       "      <td>600</td>\n",
       "      <td>437</td>\n",
       "      <td>25</td>\n",
       "      <td>207</td>\n",
       "      <td>213</td>\n",
       "    </tr>\n",
       "    <tr>\n",
       "      <th>162</th>\n",
       "      <td>163</td>\n",
       "      <td>Sharp 32\" Color TV</td>\n",
       "      <td>32L-S500 32\" Color TV</td>\n",
       "      <td>25163</td>\n",
       "      <td>650</td>\n",
       "      <td>461</td>\n",
       "      <td>25</td>\n",
       "      <td>209</td>\n",
       "      <td>214</td>\n",
       "    </tr>\n",
       "    <tr>\n",
       "      <th>163</th>\n",
       "      <td>164</td>\n",
       "      <td>Sony 32\" Trinitron Television</td>\n",
       "      <td>KV-32S65 32\" Trinitron Television</td>\n",
       "      <td>25164</td>\n",
       "      <td>800</td>\n",
       "      <td>591</td>\n",
       "      <td>25</td>\n",
       "      <td>209</td>\n",
       "      <td>215</td>\n",
       "    </tr>\n",
       "    <tr>\n",
       "      <th>164</th>\n",
       "      <td>165</td>\n",
       "      <td>Sony 35\" Trinitron Television</td>\n",
       "      <td>KV35S40 35\" Trinitron Television</td>\n",
       "      <td>25165</td>\n",
       "      <td>999</td>\n",
       "      <td>725</td>\n",
       "      <td>25</td>\n",
       "      <td>209</td>\n",
       "      <td>215</td>\n",
       "    </tr>\n",
       "    <tr>\n",
       "      <th>165</th>\n",
       "      <td>166</td>\n",
       "      <td>Panasonic PalmTheater Portable DVD</td>\n",
       "      <td>DVD-L50 PalmTheater Portable DVD</td>\n",
       "      <td>26166</td>\n",
       "      <td>1000</td>\n",
       "      <td>734</td>\n",
       "      <td>26</td>\n",
       "      <td>206</td>\n",
       "      <td>210</td>\n",
       "    </tr>\n",
       "    <tr>\n",
       "      <th>170</th>\n",
       "      <td>171</td>\n",
       "      <td>Panasonic 27\" TV/DVD Player Combo</td>\n",
       "      <td>CT-27DC50 27\" TV/DVD Player Combo</td>\n",
       "      <td>26171</td>\n",
       "      <td>600</td>\n",
       "      <td>432</td>\n",
       "      <td>26</td>\n",
       "      <td>206</td>\n",
       "      <td>210</td>\n",
       "    </tr>\n",
       "    <tr>\n",
       "      <th>173</th>\n",
       "      <td>174</td>\n",
       "      <td>Sony DVD/CD/Video Player</td>\n",
       "      <td>DVP-S9000ES DVD/SACD/CD/Video CD Player</td>\n",
       "      <td>26174</td>\n",
       "      <td>1200</td>\n",
       "      <td>852</td>\n",
       "      <td>26</td>\n",
       "      <td>206</td>\n",
       "      <td>215</td>\n",
       "    </tr>\n",
       "    <tr>\n",
       "      <th>174</th>\n",
       "      <td>175</td>\n",
       "      <td>Sony Transportable DVD Player</td>\n",
       "      <td>DVP-F5 Transportable DVD Player</td>\n",
       "      <td>26175</td>\n",
       "      <td>500</td>\n",
       "      <td>367</td>\n",
       "      <td>26</td>\n",
       "      <td>206</td>\n",
       "      <td>215</td>\n",
       "    </tr>\n",
       "    <tr>\n",
       "      <th>176</th>\n",
       "      <td>177</td>\n",
       "      <td>Sharp DVD Player</td>\n",
       "      <td>DV-A1000 DVD Player</td>\n",
       "      <td>26177</td>\n",
       "      <td>900</td>\n",
       "      <td>656</td>\n",
       "      <td>26</td>\n",
       "      <td>207</td>\n",
       "      <td>214</td>\n",
       "    </tr>\n",
       "  </tbody>\n",
       "</table>\n",
       "</div>"
      ],
      "text/plain": [
       "     ITEM_ID                                         ITEM_NAME  \\\n",
       "1         91     Harman Kardon Digital Surround Sound Receiver   \n",
       "2         92               Harman Kardon AM/FM Stereo Receiver   \n",
       "3         93              Harman Kardon Dolby Digital Receiver   \n",
       "9         99  Pioneer CD Recordable, Digital Synchro Recording   \n",
       "14       104                             Sony Digital MiniDisc   \n",
       "17       107                             Hitachi DVD Camcorder   \n",
       "114      115            Panasonic Digital Palmcorder Camcorder   \n",
       "115      116              Sharp Hi-Fi Stereo Viewcam Camcorder   \n",
       "116      117                       Sharp Hi8 Viewcam Camcorder   \n",
       "117      118                            Sharp Internet Viewcam   \n",
       "118      119                    Sony Handycam Digital Recorder   \n",
       "139      140                  Sharp Mobilon TriPad Handheld PC   \n",
       "141      142                              Xerox Workcentre 385   \n",
       "144      145                      Hewlett Packard Color Copier   \n",
       "145      146   Hewlett Packard LaserJet Printer/Copier/Scanner   \n",
       "148      149                 Hewlett Packard OfficeJet Printer   \n",
       "149      150           Hewlett Packard Jornada 680 Handheld PC   \n",
       "151      152                                 RCA 32\" Stereo TV   \n",
       "162      163                                Sharp 32\" Color TV   \n",
       "163      164                     Sony 32\" Trinitron Television   \n",
       "164      165                     Sony 35\" Trinitron Television   \n",
       "165      166                Panasonic PalmTheater Portable DVD   \n",
       "170      171                 Panasonic 27\" TV/DVD Player Combo   \n",
       "173      174                          Sony DVD/CD/Video Player   \n",
       "174      175                     Sony Transportable DVD Player   \n",
       "176      177                                  Sharp DVD Player   \n",
       "\n",
       "                                       ITEM_LONG_DESC  DISC_CD  UNIT_PRICE  \\\n",
       "1                     Digital Surround Sound Receiver    21091        1000   \n",
       "2                        HK3370 AM/FM Stereo Receiver    21092         500   \n",
       "3                        AVR45 Dolby Digital Receiver    21093         700   \n",
       "9            CD Recordable, Digital Synchro Recording    21099         500   \n",
       "14            Digital MiniDisc/CD/AM/FM Stereo System    21104         600   \n",
       "17   DVD Camcorder with 3.5\" Color LCD and Photo Mode    22107         600   \n",
       "114             PV-DV910 Digital Palmcorder Camcorder    22115         900   \n",
       "115                    Hi-Fi Stereo Viewcam Camcorder    22116         450   \n",
       "116                             Hi8 Viewcam Camcorder    22117         600   \n",
       "117                           MPEG-4 Internet Viewcam    22118         700   \n",
       "118               DCRTRV103 Handycam Digital Recorder    22119         900   \n",
       "139                Mobilon TriPad PV-6000 Handheld PC    24140         980   \n",
       "141                                    Workcentre 385    24142         500   \n",
       "144                           C6690A Color Copier 160    24145         604   \n",
       "145       C7045A LaserJet 1220 Printer/Copier/Scanner    24146         650   \n",
       "148                           C6687A OfficeJet R-40xi    24149         600   \n",
       "149                           Jornada 680 Handheld PC    24150         800   \n",
       "151                              F32645 32\" Stereo TV    25152         600   \n",
       "162                             32L-S500 32\" Color TV    25163         650   \n",
       "163                 KV-32S65 32\" Trinitron Television    25164         800   \n",
       "164                  KV35S40 35\" Trinitron Television    25165         999   \n",
       "165                  DVD-L50 PalmTheater Portable DVD    26166        1000   \n",
       "170                 CT-27DC50 27\" TV/DVD Player Combo    26171         600   \n",
       "173           DVP-S9000ES DVD/SACD/CD/Video CD Player    26174        1200   \n",
       "174                   DVP-F5 Transportable DVD Player    26175         500   \n",
       "176                               DV-A1000 DVD Player    26177         900   \n",
       "\n",
       "     UNIT_COST  SUBCAT_ID  SUPPLIER_ID  BRAND_ID  \n",
       "1          739         21          202       203  \n",
       "2          373         21          202       203  \n",
       "3          518         21          202       203  \n",
       "9          370         21          203       211  \n",
       "14         445         21          203       215  \n",
       "17         449         22          201       205  \n",
       "114        674         22          201       210  \n",
       "115        318         22          201       214  \n",
       "116        426         22          201       214  \n",
       "117        514         22          201       214  \n",
       "118        640         22          201       215  \n",
       "139        727         24          205       214  \n",
       "141        365         24          205       216  \n",
       "144        436         24          210       204  \n",
       "145        474         24          210       204  \n",
       "148        423         24          210       204  \n",
       "149        592         24          210       204  \n",
       "151        437         25          207       213  \n",
       "162        461         25          209       214  \n",
       "163        591         25          209       215  \n",
       "164        725         25          209       215  \n",
       "165        734         26          206       210  \n",
       "170        432         26          206       210  \n",
       "173        852         26          206       215  \n",
       "174        367         26          206       215  \n",
       "176        656         26          207       214  "
      ]
     },
     "execution_count": 579,
     "metadata": {},
     "output_type": "execute_result"
    }
   ],
   "source": [
    "    i_data[i_data.UNIT_PRICE>400]"
   ]
  },
  {
   "cell_type": "code",
   "execution_count": 580,
   "metadata": {},
   "outputs": [
    {
     "data": {
      "image/png": "[encoded data removed]",
      "text/plain": [
       "<matplotlib.figure.Figure at 0x7f3b9abe5a50>"
      ]
     },
     "metadata": {},
     "output_type": "display_data"
    }
   ],
   "source": [
    "i_data.groupby(\"SUBCAT_ID\").UNIT_PRICE.plot(kind=\"hist\")\n",
    "plt.show()"
   ]
  },
  {
   "cell_type": "code",
   "execution_count": 581,
   "metadata": {},
   "outputs": [
    {
     "data": {
      "text/plain": [
       "401    19\n",
       "405    18\n",
       "109    17\n",
       "404    17\n",
       "406    16\n",
       "104    15\n",
       "201    15\n",
       "303    14\n",
       "207    13\n",
       "310    12\n",
       "203    12\n",
       "108    12\n",
       "403    11\n",
       "309    11\n",
       "206    11\n",
       "302    10\n",
       "205     9\n",
       "208     9\n",
       "402     9\n",
       "107     9\n",
       "301     9\n",
       "102     9\n",
       "306     8\n",
       "103     8\n",
       "304     8\n",
       "106     7\n",
       "101     7\n",
       "307     7\n",
       "204     6\n",
       "210     6\n",
       "305     6\n",
       "105     6\n",
       "209     6\n",
       "202     3\n",
       "311     3\n",
       "308     2\n",
       "Name: SUPPLIER_ID, dtype: int64"
      ]
     },
     "execution_count": 581,
     "metadata": {},
     "output_type": "execute_result"
    }
   ],
   "source": [
    "i_data.SUPPLIER_ID.value_counts(sort=True)"
   ]
  },
  {
   "cell_type": "code",
   "execution_count": 582,
   "metadata": {
    "collapsed": true
   },
   "outputs": [],
   "source": [
    "#deleting repeated and redundant information (since SP and CP both signify the same property and have linear relationship)\n",
    "i_data.drop([\n",
    "    \"ITEM_NAME\",\n",
    "    \"ITEM_LONG_DESC\",\n",
    "    \"UNIT_COST\"\n",
    "], axis=1, inplace= True)"
   ]
  },
  {
   "cell_type": "code",
   "execution_count": 583,
   "metadata": {
    "collapsed": true
   },
   "outputs": [],
   "source": [
    "#loading order data\n",
    "o_data= pd.read_excel(\"LU_ORDER.xlsx\")"
   ]
  },
  {
   "cell_type": "code",
   "execution_count": 584,
   "metadata": {},
   "outputs": [
    {
     "data": {
      "text/html": [
       "<div>\n",
       "<style>\n",
       "    .dataframe thead tr:only-child th {\n",
       "        text-align: right;\n",
       "    }\n",
       "\n",
       "    .dataframe thead th {\n",
       "        text-align: left;\n",
       "    }\n",
       "\n",
       "    .dataframe tbody tr th {\n",
       "        vertical-align: top;\n",
       "    }\n",
       "</style>\n",
       "<table border=\"1\" class=\"dataframe\">\n",
       "  <thead>\n",
       "    <tr style=\"text-align: right;\">\n",
       "      <th></th>\n",
       "      <th>ORDER_ID</th>\n",
       "      <th>CUSTOMER_ID</th>\n",
       "      <th>PYMT_TYPE</th>\n",
       "      <th>SHIPPER_ID</th>\n",
       "    </tr>\n",
       "  </thead>\n",
       "  <tbody>\n",
       "    <tr>\n",
       "      <th>0</th>\n",
       "      <td>1</td>\n",
       "      <td>26</td>\n",
       "      <td>2</td>\n",
       "      <td>2</td>\n",
       "    </tr>\n",
       "    <tr>\n",
       "      <th>1</th>\n",
       "      <td>2</td>\n",
       "      <td>59</td>\n",
       "      <td>1</td>\n",
       "      <td>1</td>\n",
       "    </tr>\n",
       "  </tbody>\n",
       "</table>\n",
       "</div>"
      ],
      "text/plain": [
       "   ORDER_ID  CUSTOMER_ID  PYMT_TYPE  SHIPPER_ID\n",
       "0         1           26          2           2\n",
       "1         2           59          1           1"
      ]
     },
     "execution_count": 584,
     "metadata": {},
     "output_type": "execute_result"
    }
   ],
   "source": [
    "o_data.head(2)"
   ]
  },
  {
   "cell_type": "code",
   "execution_count": 585,
   "metadata": {
    "collapsed": true
   },
   "outputs": [],
   "source": [
    "#loading final_data\n",
    "data= pd.read_excel(\"ORDER_DETAIL.xlsx\")"
   ]
  },
  {
   "cell_type": "code",
   "execution_count": 586,
   "metadata": {},
   "outputs": [
    {
     "data": {
      "text/html": [
       "<div>\n",
       "<style>\n",
       "    .dataframe thead tr:only-child th {\n",
       "        text-align: right;\n",
       "    }\n",
       "\n",
       "    .dataframe thead th {\n",
       "        text-align: left;\n",
       "    }\n",
       "\n",
       "    .dataframe tbody tr th {\n",
       "        vertical-align: top;\n",
       "    }\n",
       "</style>\n",
       "<table border=\"1\" class=\"dataframe\">\n",
       "  <thead>\n",
       "    <tr style=\"text-align: right;\">\n",
       "      <th></th>\n",
       "      <th>ORDER_ID</th>\n",
       "      <th>CUSTOMER_ID</th>\n",
       "      <th>ITEM_ID</th>\n",
       "      <th>ORDER_DATE</th>\n",
       "      <th>EMP_ID</th>\n",
       "      <th>PROMOTION_ID</th>\n",
       "      <th>QTY_SOLD</th>\n",
       "      <th>UNIT_PRICE</th>\n",
       "      <th>UNIT_COST</th>\n",
       "      <th>DISCOUNT</th>\n",
       "    </tr>\n",
       "  </thead>\n",
       "  <tbody>\n",
       "    <tr>\n",
       "      <th>0</th>\n",
       "      <td>208</td>\n",
       "      <td>363</td>\n",
       "      <td>275</td>\n",
       "      <td>2003-01-08</td>\n",
       "      <td>5</td>\n",
       "      <td>1</td>\n",
       "      <td>1</td>\n",
       "      <td>19</td>\n",
       "      <td>16</td>\n",
       "      <td>0</td>\n",
       "    </tr>\n",
       "    <tr>\n",
       "      <th>1</th>\n",
       "      <td>209</td>\n",
       "      <td>375</td>\n",
       "      <td>218</td>\n",
       "      <td>2003-01-29</td>\n",
       "      <td>8</td>\n",
       "      <td>1</td>\n",
       "      <td>1</td>\n",
       "      <td>17</td>\n",
       "      <td>13</td>\n",
       "      <td>0</td>\n",
       "    </tr>\n",
       "  </tbody>\n",
       "</table>\n",
       "</div>"
      ],
      "text/plain": [
       "   ORDER_ID  CUSTOMER_ID  ITEM_ID ORDER_DATE  EMP_ID  PROMOTION_ID  QTY_SOLD  \\\n",
       "0       208          363      275 2003-01-08       5             1         1   \n",
       "1       209          375      218 2003-01-29       8             1         1   \n",
       "\n",
       "   UNIT_PRICE  UNIT_COST  DISCOUNT  \n",
       "0          19         16         0  \n",
       "1          17         13         0  "
      ]
     },
     "execution_count": 586,
     "metadata": {},
     "output_type": "execute_result"
    }
   ],
   "source": [
    "data.head(2)"
   ]
  },
  {
   "cell_type": "code",
   "execution_count": 587,
   "metadata": {
    "collapsed": true
   },
   "outputs": [],
   "source": [
    "#merging order data\n",
    "data= pd.merge(left=data, right=o_data, on=\"ORDER_ID\")"
   ]
  },
  {
   "cell_type": "code",
   "execution_count": 588,
   "metadata": {
    "collapsed": true
   },
   "outputs": [],
   "source": [
    "data.drop([\"CUSTOMER_ID_y\"], axis=1, inplace= True)"
   ]
  },
  {
   "cell_type": "code",
   "execution_count": 589,
   "metadata": {
    "collapsed": true
   },
   "outputs": [],
   "source": [
    "data.rename(columns={\"CUSTOMER_ID_x\":\"CUSTOMER_ID\"}, inplace=True)"
   ]
  },
  {
   "cell_type": "code",
   "execution_count": 590,
   "metadata": {
    "collapsed": true
   },
   "outputs": [],
   "source": [
    "#merging customer data\n",
    "data= pd.merge(left=data, right=c_data, on= \"CUSTOMER_ID\")"
   ]
  },
  {
   "cell_type": "code",
   "execution_count": 591,
   "metadata": {
    "collapsed": true
   },
   "outputs": [],
   "source": [
    "#merging item data\n",
    "data= pd.merge(left=data, right=i_data, on = \"ITEM_ID\")"
   ]
  },
  {
   "cell_type": "code",
   "execution_count": 592,
   "metadata": {},
   "outputs": [
    {
     "data": {
      "text/plain": [
       "Index([    u'ORDER_ID',  u'CUSTOMER_ID',      u'ITEM_ID',   u'ORDER_DATE',\n",
       "             u'EMP_ID', u'PROMOTION_ID',     u'QTY_SOLD', u'UNIT_PRICE_x',\n",
       "          u'UNIT_COST',     u'DISCOUNT',    u'PYMT_TYPE',   u'SHIPPER_ID',\n",
       "                u'AGE',      u'ZIPCODE',    u'INCOME_ID', u'CUST_CITY_ID',\n",
       "            u'DISC_CD', u'UNIT_PRICE_y',    u'SUBCAT_ID',  u'SUPPLIER_ID',\n",
       "           u'BRAND_ID'],\n",
       "      dtype='object')"
      ]
     },
     "execution_count": 592,
     "metadata": {},
     "output_type": "execute_result"
    }
   ],
   "source": [
    "data.columns"
   ]
  },
  {
   "cell_type": "code",
   "execution_count": 593,
   "metadata": {
    "collapsed": true
   },
   "outputs": [],
   "source": [
    "#removing duplicates\n",
    "data.drop([\"UNIT_PRICE_x\",\"UNIT_COST\"], axis=1, inplace=True)"
   ]
  },
  {
   "cell_type": "code",
   "execution_count": 594,
   "metadata": {},
   "outputs": [
    {
     "data": {
      "text/plain": [
       "1    109310\n",
       "4     82042\n",
       "3     81392\n",
       "2     80799\n",
       "5     53986\n",
       "Name: PYMT_TYPE, dtype: int64"
      ]
     },
     "execution_count": 594,
     "metadata": {},
     "output_type": "execute_result"
    }
   ],
   "source": [
    "data.PYMT_TYPE.value_counts(sort=True)"
   ]
  },
  {
   "cell_type": "code",
   "execution_count": 595,
   "metadata": {},
   "outputs": [
    {
     "data": {
      "text/plain": [
       "397529"
      ]
     },
     "execution_count": 595,
     "metadata": {},
     "output_type": "execute_result"
    }
   ],
   "source": [
    "data.shape[0]-10000"
   ]
  },
  {
   "cell_type": "code",
   "execution_count": 596,
   "metadata": {},
   "outputs": [],
   "source": [
    "#dividing the data into train and test for future validation \n",
    "train_data= data.sort_values(by=[\"ORDER_DATE\"]).iloc[:397529,:]\n",
    "test_data= data.sort_values(by=[\"ORDER_DATE\"]).iloc[397529:,:]"
   ]
  },
  {
   "cell_type": "markdown",
   "metadata": {},
   "source": [
    "# Feature engineering- derive features which are specific to a customer from past shopping experience"
   ]
  },
  {
   "cell_type": "code",
   "execution_count": 597,
   "metadata": {
    "collapsed": true
   },
   "outputs": [],
   "source": [
    "#sum total of all last purchases by a single customer \n",
    "sum_of_purchases= train_data.groupby('CUSTOMER_ID').UNIT_PRICE_y.sum()"
   ]
  },
  {
   "cell_type": "code",
   "execution_count": 598,
   "metadata": {
    "collapsed": true
   },
   "outputs": [],
   "source": [
    "#average of all last purchases by a single customer \n",
    "avg_of_purchases= train_data.groupby('CUSTOMER_ID').UNIT_PRICE_y.mean()"
   ]
  },
  {
   "cell_type": "code",
   "execution_count": 599,
   "metadata": {
    "collapsed": true
   },
   "outputs": [],
   "source": [
    "#total number of items bought by a customer\n",
    "number_of_purchases= train_data.groupby('CUSTOMER_ID').size()"
   ]
  },
  {
   "cell_type": "code",
   "execution_count": 600,
   "metadata": {
    "collapsed": true
   },
   "outputs": [],
   "source": [
    "#total number of times customer has shopped in the past\n",
    "number_of_unique_orders= o_data.groupby('CUSTOMER_ID').size()"
   ]
  },
  {
   "cell_type": "code",
   "execution_count": 601,
   "metadata": {},
   "outputs": [
    {
     "data": {
      "text/plain": [
       "(397529, 19)"
      ]
     },
     "execution_count": 601,
     "metadata": {},
     "output_type": "execute_result"
    }
   ],
   "source": [
    "train_data.shape"
   ]
  },
  {
   "cell_type": "code",
   "execution_count": 602,
   "metadata": {},
   "outputs": [],
   "source": [
    "train_data.reset_index(drop=True, inplace=True)"
   ]
  },
  {
   "cell_type": "code",
   "execution_count": 603,
   "metadata": {
    "collapsed": true
   },
   "outputs": [],
   "source": [
    "# to calculate the most recent purchase date\n",
    "min_date= train_data[\"ORDER_DATE\"].min()"
   ]
  },
  {
   "cell_type": "code",
   "execution_count": 604,
   "metadata": {},
   "outputs": [],
   "source": [
    "ls=[]\n",
    "for n in range(0, train_data.shape[0]):\n",
    "    ls.append((train_data[\"ORDER_DATE\"][n]- min_date).days)"
   ]
  },
  {
   "cell_type": "code",
   "execution_count": 605,
   "metadata": {
    "collapsed": true
   },
   "outputs": [],
   "source": [
    "train_data[\"days_since_first\"]= ls"
   ]
  },
  {
   "cell_type": "code",
   "execution_count": 606,
   "metadata": {},
   "outputs": [
    {
     "data": {
      "text/plain": [
       "CUSTOMER_ID\n",
       "1     705\n",
       "2     705\n",
       "3     700\n",
       "4     662\n",
       "5     705\n",
       "6     702\n",
       "7     720\n",
       "8     717\n",
       "9     705\n",
       "10    671\n",
       "Name: days_since_first, dtype: int64"
      ]
     },
     "execution_count": 606,
     "metadata": {},
     "output_type": "execute_result"
    }
   ],
   "source": [
    "most_recent_purchase= train_data.groupby(\"CUSTOMER_ID\").days_since_first.max()\n",
    "most_recent_purchase[:10]"
   ]
  },
  {
   "cell_type": "code",
   "execution_count": 607,
   "metadata": {},
   "outputs": [],
   "source": [
    "#removing redundant information\n",
    "train_data.drop([\"PROMOTION_ID\"], axis=1, inplace=True)"
   ]
  },
  {
   "cell_type": "code",
   "execution_count": 608,
   "metadata": {
    "collapsed": true
   },
   "outputs": [],
   "source": [
    "df= pd.DataFrame(train_data.groupby([\"CUSTOMER_ID\",\"ITEM_ID\"]).count()[\"ORDER_ID\"])"
   ]
  },
  {
   "cell_type": "code",
   "execution_count": 609,
   "metadata": {},
   "outputs": [
    {
     "data": {
      "text/plain": [
       "10000"
      ]
     },
     "execution_count": 609,
     "metadata": {},
     "output_type": "execute_result"
    }
   ],
   "source": [
    "np.size(train_data.CUSTOMER_ID.unique())"
   ]
  },
  {
   "cell_type": "code",
   "execution_count": 610,
   "metadata": {
    "scrolled": false
   },
   "outputs": [],
   "source": [
    "# calculate the frequency of most bought item \n",
    "gs=[]\n",
    "ns=[]\n",
    "for n in range(1,10001):\n",
    "    ns.append(n)\n",
    "    gs.append(train_data[train_data.CUSTOMER_ID==n].ITEM_ID.value_counts().max())"
   ]
  },
  {
   "cell_type": "code",
   "execution_count": 611,
   "metadata": {},
   "outputs": [
    {
     "data": {
      "text/html": [
       "<div>\n",
       "<style>\n",
       "    .dataframe thead tr:only-child th {\n",
       "        text-align: right;\n",
       "    }\n",
       "\n",
       "    .dataframe thead th {\n",
       "        text-align: left;\n",
       "    }\n",
       "\n",
       "    .dataframe tbody tr th {\n",
       "        vertical-align: top;\n",
       "    }\n",
       "</style>\n",
       "<table border=\"1\" class=\"dataframe\">\n",
       "  <thead>\n",
       "    <tr style=\"text-align: right;\">\n",
       "      <th></th>\n",
       "      <th>CUSTOMER_ID</th>\n",
       "      <th>frequency</th>\n",
       "    </tr>\n",
       "  </thead>\n",
       "  <tbody>\n",
       "    <tr>\n",
       "      <th>0</th>\n",
       "      <td>1</td>\n",
       "      <td>2</td>\n",
       "    </tr>\n",
       "    <tr>\n",
       "      <th>1</th>\n",
       "      <td>2</td>\n",
       "      <td>2</td>\n",
       "    </tr>\n",
       "    <tr>\n",
       "      <th>2</th>\n",
       "      <td>3</td>\n",
       "      <td>2</td>\n",
       "    </tr>\n",
       "  </tbody>\n",
       "</table>\n",
       "</div>"
      ],
      "text/plain": [
       "   CUSTOMER_ID  frequency\n",
       "0            1          2\n",
       "1            2          2\n",
       "2            3          2"
      ]
     },
     "execution_count": 611,
     "metadata": {},
     "output_type": "execute_result"
    }
   ],
   "source": [
    "#making a dataset\n",
    "f_df= pd.DataFrame({\n",
    "    \"CUSTOMER_ID\":ns,\n",
    "    \"frequency\":gs\n",
    "})\n",
    "f_df.head(3)"
   ]
  },
  {
   "cell_type": "code",
   "execution_count": 612,
   "metadata": {},
   "outputs": [],
   "source": [
    "# finding mean difference between two order dates in term of days\n",
    "df2= pd.DataFrame({\n",
    "    \"CUSTOMER_ID\":train_data.CUSTOMER_ID,\n",
    "    \"ORDER_ID\":train_data.ORDER_ID,\n",
    "    \"days_since_first\":train_data.days_since_first\n",
    "})"
   ]
  },
  {
   "cell_type": "code",
   "execution_count": 613,
   "metadata": {
    "collapsed": true
   },
   "outputs": [],
   "source": [
    "df2.drop_duplicates(subset=\"ORDER_ID\", inplace=True)"
   ]
  },
  {
   "cell_type": "code",
   "execution_count": 614,
   "metadata": {
    "collapsed": true
   },
   "outputs": [],
   "source": [
    "df2.sort_values(by=[\"CUSTOMER_ID\",\"days_since_first\"], inplace=True)"
   ]
  },
  {
   "cell_type": "code",
   "execution_count": 615,
   "metadata": {
    "collapsed": true
   },
   "outputs": [],
   "source": [
    "df2[\"gap\"]= df2['days_since_first']- df2['days_since_first'].shift(1)"
   ]
  },
  {
   "cell_type": "code",
   "execution_count": 616,
   "metadata": {
    "collapsed": true
   },
   "outputs": [],
   "source": [
    "df2= df2[df2.gap>=0]"
   ]
  },
  {
   "cell_type": "code",
   "execution_count": 617,
   "metadata": {},
   "outputs": [
    {
     "data": {
      "text/plain": [
       "CUSTOMER_ID\n",
       "1     31.090909\n",
       "2     29.208333\n",
       "3     46.333333\n",
       "4     50.923077\n",
       "5     27.000000\n",
       "6     48.714286\n",
       "7     32.136364\n",
       "8     27.680000\n",
       "9     38.888889\n",
       "10    36.333333\n",
       "Name: gap, dtype: float64"
      ]
     },
     "execution_count": 617,
     "metadata": {},
     "output_type": "execute_result"
    }
   ],
   "source": [
    "mean_gap= df2.groupby(\"CUSTOMER_ID\").gap.mean()\n",
    "mean_gap[:10]"
   ]
  },
  {
   "cell_type": "code",
   "execution_count": 618,
   "metadata": {
    "collapsed": true
   },
   "outputs": [],
   "source": [
    "f_df.set_index(\"CUSTOMER_ID\", inplace=True)"
   ]
  },
  {
   "cell_type": "code",
   "execution_count": 619,
   "metadata": {
    "collapsed": true
   },
   "outputs": [],
   "source": [
    "f_df[\"mean_gap\"]= mean_gap"
   ]
  },
  {
   "cell_type": "code",
   "execution_count": 620,
   "metadata": {
    "collapsed": true
   },
   "outputs": [],
   "source": [
    "f_df[\"sum_of_purchases\"]= sum_of_purchases"
   ]
  },
  {
   "cell_type": "code",
   "execution_count": 621,
   "metadata": {
    "collapsed": true
   },
   "outputs": [],
   "source": [
    "f_df[\"number_of_purchases\"]= number_of_purchases"
   ]
  },
  {
   "cell_type": "code",
   "execution_count": 622,
   "metadata": {
    "collapsed": true
   },
   "outputs": [],
   "source": [
    "f_df[\"avg_of_purchases\"]= avg_of_purchases"
   ]
  },
  {
   "cell_type": "code",
   "execution_count": 623,
   "metadata": {
    "collapsed": true
   },
   "outputs": [],
   "source": [
    "f_df[\"number_of_unique_orders\"]= number_of_unique_orders"
   ]
  },
  {
   "cell_type": "code",
   "execution_count": 624,
   "metadata": {
    "collapsed": true
   },
   "outputs": [],
   "source": [
    "f_df[\"most_recent_purchase\"]= most_recent_purchase"
   ]
  },
  {
   "cell_type": "code",
   "execution_count": 625,
   "metadata": {
    "collapsed": true
   },
   "outputs": [],
   "source": [
    "max_days= (data.ORDER_DATE.max()-data.ORDER_DATE.min()).days"
   ]
  },
  {
   "cell_type": "code",
   "execution_count": 626,
   "metadata": {
    "collapsed": true
   },
   "outputs": [],
   "source": [
    "f_df[\"most_recent_purchase\"]= max_days- f_df[\"most_recent_purchase\"]"
   ]
  },
  {
   "cell_type": "code",
   "execution_count": 627,
   "metadata": {
    "collapsed": true
   },
   "outputs": [],
   "source": [
    "f_df.reset_index(inplace=True)"
   ]
  },
  {
   "cell_type": "code",
   "execution_count": 628,
   "metadata": {},
   "outputs": [
    {
     "data": {
      "text/html": [
       "<div>\n",
       "<style>\n",
       "    .dataframe thead tr:only-child th {\n",
       "        text-align: right;\n",
       "    }\n",
       "\n",
       "    .dataframe thead th {\n",
       "        text-align: left;\n",
       "    }\n",
       "\n",
       "    .dataframe tbody tr th {\n",
       "        vertical-align: top;\n",
       "    }\n",
       "</style>\n",
       "<table border=\"1\" class=\"dataframe\">\n",
       "  <thead>\n",
       "    <tr style=\"text-align: right;\">\n",
       "      <th></th>\n",
       "      <th>CUSTOMER_ID</th>\n",
       "      <th>frequency</th>\n",
       "      <th>mean_gap</th>\n",
       "      <th>sum_of_purchases</th>\n",
       "      <th>number_of_purchases</th>\n",
       "      <th>avg_of_purchases</th>\n",
       "      <th>number_of_unique_orders</th>\n",
       "      <th>most_recent_purchase</th>\n",
       "      <th>AGE</th>\n",
       "      <th>ZIPCODE</th>\n",
       "      <th>INCOME_ID</th>\n",
       "      <th>CUST_CITY_ID</th>\n",
       "    </tr>\n",
       "  </thead>\n",
       "  <tbody>\n",
       "    <tr>\n",
       "      <th>0</th>\n",
       "      <td>1</td>\n",
       "      <td>2</td>\n",
       "      <td>31.090909</td>\n",
       "      <td>1355</td>\n",
       "      <td>42</td>\n",
       "      <td>32.261905</td>\n",
       "      <td>23</td>\n",
       "      <td>25</td>\n",
       "      <td>55</td>\n",
       "      <td>7071</td>\n",
       "      <td>6</td>\n",
       "      <td>221</td>\n",
       "    </tr>\n",
       "    <tr>\n",
       "      <th>1</th>\n",
       "      <td>2</td>\n",
       "      <td>2</td>\n",
       "      <td>29.208333</td>\n",
       "      <td>2720</td>\n",
       "      <td>50</td>\n",
       "      <td>54.400000</td>\n",
       "      <td>27</td>\n",
       "      <td>25</td>\n",
       "      <td>82</td>\n",
       "      <td>53233</td>\n",
       "      <td>3</td>\n",
       "      <td>251</td>\n",
       "    </tr>\n",
       "    <tr>\n",
       "      <th>2</th>\n",
       "      <td>3</td>\n",
       "      <td>2</td>\n",
       "      <td>46.333333</td>\n",
       "      <td>472</td>\n",
       "      <td>30</td>\n",
       "      <td>15.733333</td>\n",
       "      <td>17</td>\n",
       "      <td>30</td>\n",
       "      <td>74</td>\n",
       "      <td>22182</td>\n",
       "      <td>3</td>\n",
       "      <td>400</td>\n",
       "    </tr>\n",
       "    <tr>\n",
       "      <th>3</th>\n",
       "      <td>4</td>\n",
       "      <td>2</td>\n",
       "      <td>50.923077</td>\n",
       "      <td>1841</td>\n",
       "      <td>25</td>\n",
       "      <td>73.640000</td>\n",
       "      <td>16</td>\n",
       "      <td>68</td>\n",
       "      <td>79</td>\n",
       "      <td>60949</td>\n",
       "      <td>3</td>\n",
       "      <td>229</td>\n",
       "    </tr>\n",
       "    <tr>\n",
       "      <th>4</th>\n",
       "      <td>5</td>\n",
       "      <td>3</td>\n",
       "      <td>27.000000</td>\n",
       "      <td>1124</td>\n",
       "      <td>51</td>\n",
       "      <td>22.039216</td>\n",
       "      <td>28</td>\n",
       "      <td>25</td>\n",
       "      <td>78</td>\n",
       "      <td>52537</td>\n",
       "      <td>3</td>\n",
       "      <td>37</td>\n",
       "    </tr>\n",
       "  </tbody>\n",
       "</table>\n",
       "</div>"
      ],
      "text/plain": [
       "   CUSTOMER_ID  frequency   mean_gap  sum_of_purchases  number_of_purchases  \\\n",
       "0            1          2  31.090909              1355                   42   \n",
       "1            2          2  29.208333              2720                   50   \n",
       "2            3          2  46.333333               472                   30   \n",
       "3            4          2  50.923077              1841                   25   \n",
       "4            5          3  27.000000              1124                   51   \n",
       "\n",
       "   avg_of_purchases  number_of_unique_orders  most_recent_purchase  AGE  \\\n",
       "0         32.261905                       23                    25   55   \n",
       "1         54.400000                       27                    25   82   \n",
       "2         15.733333                       17                    30   74   \n",
       "3         73.640000                       16                    68   79   \n",
       "4         22.039216                       28                    25   78   \n",
       "\n",
       "   ZIPCODE  INCOME_ID  CUST_CITY_ID  \n",
       "0     7071          6           221  \n",
       "1    53233          3           251  \n",
       "2    22182          3           400  \n",
       "3    60949          3           229  \n",
       "4    52537          3            37  "
      ]
     },
     "execution_count": 628,
     "metadata": {},
     "output_type": "execute_result"
    }
   ],
   "source": [
    "# concatenating all features into a new dataset\n",
    "new_features= pd.merge(left= f_df, right= c_data, on= \"CUSTOMER_ID\")\n",
    "new_features.head()"
   ]
  },
  {
   "cell_type": "code",
   "execution_count": 629,
   "metadata": {
    "collapsed": true
   },
   "outputs": [],
   "source": [
    "#visualising this dataset using PCA\n",
    "from sklearn.decomposition import PCA"
   ]
  },
  {
   "cell_type": "code",
   "execution_count": 630,
   "metadata": {
    "collapsed": true
   },
   "outputs": [],
   "source": [
    "pca= PCA(n_components=2)"
   ]
  },
  {
   "cell_type": "code",
   "execution_count": 631,
   "metadata": {
    "collapsed": true
   },
   "outputs": [],
   "source": [
    "X= pca.fit_transform(new_features.iloc[:,1:])"
   ]
  },
  {
   "cell_type": "code",
   "execution_count": 632,
   "metadata": {
    "collapsed": true
   },
   "outputs": [],
   "source": [
    "X= pd.DataFrame(X)"
   ]
  },
  {
   "cell_type": "code",
   "execution_count": 633,
   "metadata": {},
   "outputs": [
    {
     "data": {
      "image/png": "[encoded data removed]",
      "text/plain": [
       "<matplotlib.figure.Figure at 0x7f3b9ab62310>"
      ]
     },
     "metadata": {},
     "output_type": "display_data"
    }
   ],
   "source": [
    "plt.scatter(X[0],X[1])\n",
    "plt.show()"
   ]
  },
  {
   "cell_type": "code",
   "execution_count": 634,
   "metadata": {
    "collapsed": true
   },
   "outputs": [],
   "source": [
    "# forming clusters to differentiate between two types of shoppers \n",
    "from sklearn.cluster import KMeans"
   ]
  },
  {
   "cell_type": "code",
   "execution_count": 649,
   "metadata": {
    "collapsed": true
   },
   "outputs": [],
   "source": [
    "k_means= KMeans(n_clusters=2).fit(new_features.iloc[:,1:])"
   ]
  },
  {
   "cell_type": "code",
   "execution_count": 650,
   "metadata": {},
   "outputs": [
    {
     "data": {
      "text/plain": [
       "10000"
      ]
     },
     "execution_count": 650,
     "metadata": {},
     "output_type": "execute_result"
    }
   ],
   "source": [
    "new_features[\"cluster\"]=k_means.labels_\n",
    "len(new_features)"
   ]
  },
  {
   "cell_type": "code",
   "execution_count": 651,
   "metadata": {},
   "outputs": [
    {
     "data": {
      "text/plain": [
       "5750"
      ]
     },
     "execution_count": 651,
     "metadata": {},
     "output_type": "execute_result"
    }
   ],
   "source": [
    "new_features[new_features.cluster==0].count()[0]"
   ]
  },
  {
   "cell_type": "code",
   "execution_count": 652,
   "metadata": {},
   "outputs": [
    {
     "data": {
      "text/plain": [
       "4250"
      ]
     },
     "execution_count": 652,
     "metadata": {},
     "output_type": "execute_result"
    }
   ],
   "source": [
    "new_features[new_features.cluster==1].count()[0]"
   ]
  },
  {
   "cell_type": "code",
   "execution_count": 653,
   "metadata": {},
   "outputs": [
    {
     "data": {
      "text/plain": [
       "5148"
      ]
     },
     "execution_count": 653,
     "metadata": {},
     "output_type": "execute_result"
    }
   ],
   "source": [
    "# the customers who visited again using test data\n",
    "actual= test_data.CUSTOMER_ID.unique()\n",
    "len(actual)"
   ]
  },
  {
   "cell_type": "code",
   "execution_count": 654,
   "metadata": {
    "collapsed": true
   },
   "outputs": [],
   "source": [
    "cluster_1= new_features[new_features.cluster==1].CUSTOMER_ID.unique()"
   ]
  },
  {
   "cell_type": "code",
   "execution_count": 655,
   "metadata": {
    "collapsed": true
   },
   "outputs": [],
   "source": [
    "cluster_0= new_features[new_features.cluster==0].CUSTOMER_ID.unique()"
   ]
  },
  {
   "cell_type": "code",
   "execution_count": 656,
   "metadata": {},
   "outputs": [
    {
     "name": "stdout",
     "output_type": "stream",
     "text": [
      "2179\n",
      "4250\n"
     ]
    }
   ],
   "source": [
    "result_1= np.in1d(cluster_1, actual)\n",
    "print np.sum(result_1)\n",
    "print np.size(result_1)"
   ]
  },
  {
   "cell_type": "code",
   "execution_count": 657,
   "metadata": {},
   "outputs": [
    {
     "name": "stdout",
     "output_type": "stream",
     "text": [
      "2969\n",
      "5750\n"
     ]
    }
   ],
   "source": [
    "result_0= np.in1d(cluster_0, actual)\n",
    "print np.sum(result_0)\n",
    "print np.size(result_0)"
   ]
  },
  {
   "cell_type": "code",
   "execution_count": 658,
   "metadata": {},
   "outputs": [
    {
     "data": {
      "text/plain": [
       "Index([            u'CUSTOMER_ID',               u'frequency',\n",
       "                      u'mean_gap',        u'sum_of_purchases',\n",
       "           u'number_of_purchases',        u'avg_of_purchases',\n",
       "       u'number_of_unique_orders',    u'most_recent_purchase',\n",
       "                           u'AGE',                 u'ZIPCODE',\n",
       "                     u'INCOME_ID',            u'CUST_CITY_ID',\n",
       "                       u'cluster'],\n",
       "      dtype='object')"
      ]
     },
     "execution_count": 658,
     "metadata": {},
     "output_type": "execute_result"
    }
   ],
   "source": [
    "new_features.columns"
   ]
  },
  {
   "cell_type": "code",
   "execution_count": 659,
   "metadata": {
    "collapsed": true
   },
   "outputs": [],
   "source": [
    "#Therefore using all the features did not give the correct results, hence creating new features and selecting few"
   ]
  },
  {
   "cell_type": "code",
   "execution_count": 660,
   "metadata": {
    "collapsed": true
   },
   "outputs": [],
   "source": [
    "new_features[\"expected_shopping_date\"]= new_features[\"mean_gap\"]- new_features[\"most_recent_purchase\"]"
   ]
  },
  {
   "cell_type": "code",
   "execution_count": 691,
   "metadata": {},
   "outputs": [
    {
     "data": {
      "text/html": [
       "<div>\n",
       "<style>\n",
       "    .dataframe thead tr:only-child th {\n",
       "        text-align: right;\n",
       "    }\n",
       "\n",
       "    .dataframe thead th {\n",
       "        text-align: left;\n",
       "    }\n",
       "\n",
       "    .dataframe tbody tr th {\n",
       "        vertical-align: top;\n",
       "    }\n",
       "</style>\n",
       "<table border=\"1\" class=\"dataframe\">\n",
       "  <thead>\n",
       "    <tr style=\"text-align: right;\">\n",
       "      <th></th>\n",
       "      <th>expected_shopping_date</th>\n",
       "      <th>frequency</th>\n",
       "      <th>INCOME_ID</th>\n",
       "      <th>most_recent_purchase</th>\n",
       "      <th>CUSTOMER_ID</th>\n",
       "    </tr>\n",
       "  </thead>\n",
       "  <tbody>\n",
       "    <tr>\n",
       "      <th>0</th>\n",
       "      <td>6.090909</td>\n",
       "      <td>2</td>\n",
       "      <td>6</td>\n",
       "      <td>25</td>\n",
       "      <td>1</td>\n",
       "    </tr>\n",
       "    <tr>\n",
       "      <th>1</th>\n",
       "      <td>4.208333</td>\n",
       "      <td>2</td>\n",
       "      <td>3</td>\n",
       "      <td>25</td>\n",
       "      <td>2</td>\n",
       "    </tr>\n",
       "  </tbody>\n",
       "</table>\n",
       "</div>"
      ],
      "text/plain": [
       "   expected_shopping_date  frequency  INCOME_ID  most_recent_purchase  \\\n",
       "0                6.090909          2          6                    25   \n",
       "1                4.208333          2          3                    25   \n",
       "\n",
       "   CUSTOMER_ID  \n",
       "0            1  \n",
       "1            2  "
      ]
     },
     "execution_count": 691,
     "metadata": {},
     "output_type": "execute_result"
    }
   ],
   "source": [
    "selected = new_features[[\n",
    "    \"expected_shopping_date\",\n",
    "    \"frequency\",\n",
    "    \"INCOME_ID\",\n",
    "    \"most_recent_purchase\",\n",
    "    \"CUSTOMER_ID\" ]]\n",
    "selected.head(2)"
   ]
  },
  {
   "cell_type": "code",
   "execution_count": 692,
   "metadata": {
    "collapsed": true
   },
   "outputs": [],
   "source": [
    "k_means= KMeans(n_clusters=2).fit(selected.iloc[:,:-1])"
   ]
  },
  {
   "cell_type": "code",
   "execution_count": 693,
   "metadata": {},
   "outputs": [
    {
     "name": "stderr",
     "output_type": "stream",
     "text": [
      "/home/apoorva/anaconda2/lib/python2.7/site-packages/ipykernel_launcher.py:1: SettingWithCopyWarning: \n",
      "A value is trying to be set on a copy of a slice from a DataFrame.\n",
      "Try using .loc[row_indexer,col_indexer] = value instead\n",
      "\n",
      "See the caveats in the documentation: http://pandas.pydata.org/pandas-docs/stable/indexing.html#indexing-view-versus-copy\n",
      "  \"\"\"Entry point for launching an IPython kernel.\n"
     ]
    }
   ],
   "source": [
    "selected[\"cluster\"]=k_means.labels_"
   ]
  },
  {
   "cell_type": "code",
   "execution_count": 694,
   "metadata": {
    "collapsed": true
   },
   "outputs": [],
   "source": [
    "cluster_1= selected[selected.cluster==1].CUSTOMER_ID.unique()\n",
    "cluster_0= selected[selected.cluster==0].CUSTOMER_ID.unique()"
   ]
  },
  {
   "cell_type": "code",
   "execution_count": 698,
   "metadata": {},
   "outputs": [
    {
     "name": "stdout",
     "output_type": "stream",
     "text": [
      "1292\n",
      "1342\n",
      "0.962742175857\n"
     ]
    }
   ],
   "source": [
    "result_1= np.in1d(cluster_1, actual)\n",
    "print np.sum(result_1)\n",
    "print np.size(result_1)\n",
    "print float(np.sum(result_1))/float(np.size(result_1))"
   ]
  },
  {
   "cell_type": "code",
   "execution_count": 699,
   "metadata": {},
   "outputs": [
    {
     "name": "stdout",
     "output_type": "stream",
     "text": [
      "3856\n",
      "0.445368445368\n"
     ]
    }
   ],
   "source": [
    "result_0= np.in1d(cluster_0, actual)\n",
    "print np.sum(result_0)\n",
    "print float(np.sum(result_0))/float(np.size(result_0))"
   ]
  },
  {
   "cell_type": "code",
   "execution_count": 700,
   "metadata": {
    "collapsed": true
   },
   "outputs": [],
   "source": [
    "# 96% of those in cluster 1 shopped again. Hence the model is learning some features"
   ]
  },
  {
   "cell_type": "code",
   "execution_count": null,
   "metadata": {
    "collapsed": true
   },
   "outputs": [],
   "source": []
  }
 ],
 "metadata": {
  "kernelspec": {
   "display_name": "Python 2",
   "language": "python",
   "name": "python2"
  },
  "language_info": {
   "codemirror_mode": {
    "name": "ipython",
    "version": 2
   },
   "file_extension": ".py",
   "mimetype": "text/x-python",
   "name": "python",
   "nbconvert_exporter": "python",
   "pygments_lexer": "ipython2",
   "version": "2.7.13"
  }
 },
 "nbformat": 4,
 "nbformat_minor": 2
}
